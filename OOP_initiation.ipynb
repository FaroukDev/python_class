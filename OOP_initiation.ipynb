{
 "cells": [
  {
   "cell_type": "code",
   "execution_count": 2,
   "metadata": {},
   "outputs": [
    {
     "name": "stdout",
     "output_type": "stream",
     "text": [
      "260mph\n"
     ]
    }
   ],
   "source": [
    "'''\n",
    "Create a Vehicle class with max_speed and mileage instance attributes\n",
    "'''\n",
    "\n",
    "class Vehicle:\n",
    "    max_speed = \"260mph\"\n",
    "    mileage = \"90000\"\n",
    "\n",
    "print(Vehicle.max_speed)\n"
   ]
  },
  {
   "cell_type": "code",
   "execution_count": 16,
   "metadata": {},
   "outputs": [
    {
     "name": "stdout",
     "output_type": "stream",
     "text": [
      "True\n"
     ]
    }
   ],
   "source": [
    "'''\n",
    "Create a class, Triangle. Its __init__() method should take self, angle1, angle2, and angle3 as arguments.\n",
    "\n",
    "Make sure to set these appropriately in the body of the __init__()method.\n",
    "\n",
    "Create a variable named number_of_sides and set it equal to 3.\n",
    "\n",
    "Create a method named check_angles.\n",
    "\n",
    "The sum of a triangle's three angles is It should return True if the sum of self.angle1, self.angle2, \n",
    "and self.angle3 is equal 180, and False otherwise.\n",
    "\n",
    "Create a variable named my_triangle and set it equal to a new instance of your Triangle class.\n",
    "Pass it three angles that sum to 180 (e.g. 90, 30, 60).\n",
    "\n",
    "Print out my_triangle.number_of_sides and print out my_triangle.check_angles().\n",
    "'''\n",
    "\n",
    "class Triangle:\n",
    "    def __init__(self, angle1, angle2, angle3):\n",
    "        self.angle1 =  angle1\n",
    "        self.angle2 =  angle2\n",
    "        self.angle3 =  angle3\n",
    "\n",
    "        number_of_sides = 3\n",
    "\n",
    "    def check_angles(self):\n",
    "        sumofsides = self.angle1 + self.angle2 + self.angle3\n",
    "        if sumofsides == 180:\n",
    "            return True\n",
    "        else: \n",
    "            return False\n",
    "\n",
    "triangle = Triangle(90,30,60)\n",
    "\n",
    "print(triangle.check_angles())"
   ]
  },
  {
   "cell_type": "code",
   "execution_count": 17,
   "metadata": {},
   "outputs": [
    {
     "name": "stdout",
     "output_type": "stream",
     "text": [
      "le Prix total est : 5500.0\n"
     ]
    }
   ],
   "source": [
    "'''\n",
    "Create a Bus child class that inherits from the Vehicle class.\n",
    "\n",
    "The default fare charge of any vehicle is seating capacity * 100.\n",
    "\n",
    "If Vehicle is Bus instance, we need to add an extra 10% on full fare as a maintenance charge.\n",
    "\n",
    "So total fare for bus instance will become the final amount = total fare + 10% of the total fare.\n",
    "'''\n",
    "class Vehicle:\n",
    "    def __init__(self, name, mileage, capacity):\n",
    "        self.name = name\n",
    "        self.mileage = mileage\n",
    "        self.capacity = capacity\n",
    "\n",
    "    def prix_place(self):\n",
    "        return self.capacity * 100\n",
    "\n",
    "class Bus(Vehicle):\n",
    "    def prix_place(self):\n",
    "        extra = super().prix_place()\n",
    "        extra += extra * 10 / 100\n",
    "        return extra\n",
    "\n",
    "Bus_ecole = Bus(\"bus renault\", 17, 50)\n",
    "print(\"le Prix total est :\", Bus_ecole.prix_place())\n",
    "\n"
   ]
  },
  {
   "cell_type": "code",
   "execution_count": null,
   "metadata": {},
   "outputs": [],
   "source": [
    "'''\n",
    "Write a Python class to convert an integer to a roman numeral\n",
    "'''\n"
   ]
  },
  {
   "cell_type": "code",
   "execution_count": 18,
   "metadata": {},
   "outputs": [
    {
     "name": "stdout",
     "output_type": "stream",
     "text": [
      "[[], [1], [2], [1, 2], [3], [1, 3], [2, 3], [1, 2, 3]]\n"
     ]
    }
   ],
   "source": [
    "'''\n",
    "Write a Python class to get all possible unique subsets from a set of distinct integers. \n",
    "Input : [4, 5, 6]\n",
    "Output : [[], [6], [5], [5, 6], [4], [4, 6], [4, 5], [4, 5, 6]]\n",
    "'''\n",
    "\n",
    "def get_power_set(s):\n",
    "    power_set=[[]]\n",
    "    for elem in s:\n",
    "    # iterate over the sub sets so far\n",
    "        for sub_set in power_set:\n",
    "      # add a new subset consisting of the subset at hand added elem\n",
    "            power_set=power_set+[list(sub_set)+[elem]]\n",
    "    return power_set\n",
    "\n",
    "\n",
    "print(get_power_set([1,2,3]))"
   ]
  },
  {
   "cell_type": "code",
   "execution_count": 19,
   "metadata": {},
   "outputs": [
    {
     "name": "stdout",
     "output_type": "stream",
     "text": [
      "31.400000000000002\n",
      "59.1576\n"
     ]
    }
   ],
   "source": [
    "'''\n",
    "Write a Python class named Circle constructed by a radius and two methods\n",
    "\n",
    "which will compute the area and the perimeter of a circle\n",
    "'''\n",
    "class Circle:\n",
    "    def __init__(self, rayon, pie ):\n",
    "        self.rayon = rayon\n",
    "        self.pie = pie\n",
    "\n",
    "    def perimeter(self):\n",
    "        return 2 * self.pie * self.rayon\n",
    "\n",
    "    def aire(self):\n",
    "        return self.pie * self.rayon ** 2\n",
    "\n",
    "per = Circle(3.14,5)\n",
    "print(per.perimeter())\n",
    "\n",
    "air = Circle(3.14, 6)\n",
    "print(air.aire())\n"
   ]
  },
  {
   "cell_type": "code",
   "execution_count": null,
   "metadata": {},
   "outputs": [],
   "source": [
    "'''\n",
    "Define a class called Lunch.Its __init__() method should have two arguments:selfanf menu.\n",
    "\n",
    "Where menu is a string. Add a method called menu_price.It will involve a ifstatement:\n",
    "\n",
    "if \"menu 1\" print \"Your choice:\", menu, \"Price 12.00\", if \"menu 2\" print \"Your choice:\", menu, \"Price 13.40\",\n",
    "else print \"Error in menu\".\n",
    "\n",
    "To check if it works define: Paul=Lunch(\"menu 1\") and call Paul.menu_price().\n",
    "'''"
   ]
  },
  {
   "cell_type": "code",
   "execution_count": null,
   "metadata": {},
   "outputs": [],
   "source": [
    "'''\n",
    "Define a class named Shape and its subclass Square. The Square class has an init function which takes a length as argument. Both classes have a area function which can print the area of the shape where Shape's area is 0 by default.\n",
    "\n",
    "Hints:\n",
    "\n",
    "To override a method in super class, we can define a method with the same name in the super class.\n",
    "\n",
    "\n",
    "'''"
   ]
  },
  {
   "cell_type": "code",
   "execution_count": null,
   "metadata": {},
   "outputs": [],
   "source": [
    "'''\n",
    "Define a class named Rectangle which can be constructed by a length and width. The Rectangle class has a method which can compute the area. \n",
    "\n",
    "Hints:\n",
    "\n",
    "Use def methodName(self) to define a method.\n",
    "'''"
   ]
  },
  {
   "cell_type": "code",
   "execution_count": null,
   "metadata": {},
   "outputs": [],
   "source": [
    "'''\n",
    "Define a Point3D class that inherits from object Inside the Point3D class,\n",
    "define an __init__() function that accepts self, x, y, and z, and \n",
    "assigns these numbers to the member variables self.x,self.y,self.z. \n",
    "\n",
    "Define a __repr__() method that returns \"(%d, %d, %d)\" % (self.x, self.y, self.z). This tells Python to represent this object in the following format: (x, y, z). Outside the class definition, create a variable named my_point containing a new instance of Point3D with x=1, y=2, and z=3. Finally, print my_point.\n",
    "'''"
   ]
  },
  {
   "cell_type": "code",
   "execution_count": null,
   "metadata": {},
   "outputs": [],
   "source": [
    "'''\n",
    "A very common use case for inheritance is the creation of a custom exception hierarchy.\n",
    "Because we use the class of an exception to determine whether it should be caught by a particular except block, it is useful for us to define custom classes for exceptions which we want to raise in our code. Using inheritance in our classes is useful because if an except block catches a particular exception class, it will also catch its child classes (because a child class is its parent class). That means that we can efficiently write except blocks which handle groups of related exceptions, just by arranging them in a logical hierarchy. Our exception classes should inherit from Python’s built-in exception classes. They often won’t need to contain any additional attributes or methods.\n",
    "\n",
    "Write a simple program which loops over a list of user data (tuples containing a username, email and age)\n",
    "and adds each user to a directory if the user is at least 16 years old. You do not need to store the age.\n",
    "Write a simple exception hierarchy which defines a different exception for each of these error conditions:\n",
    "\n",
    "the username is not unique\n",
    "the age is not a positive integer\n",
    "the user is under 16\n",
    "the email address is not valid (a simple check for a username, the @ symbol and a domain name is sufficient)\n",
    "Raise these exceptions in your program where appropriate.\n",
    "Whenever an exception occurs, your program should move onto the next set of data in the list. \n",
    "Print a different error message for each different kind of exception.\n",
    "\n",
    "Think about where else it would be a good idea to use a custom class, and what kind of collection type would be most appropriate for your directory.\n",
    "\n",
    "You can consider an email address to be valid if it contains one @ symbol and has a non-empty username and domain name – you don’t need to check for valid characters. You can assume that the age is already an integer value.\n",
    "'''"
   ]
  },
  {
   "cell_type": "code",
   "execution_count": null,
   "metadata": {},
   "outputs": [],
   "source": []
  },
  {
   "cell_type": "code",
   "execution_count": null,
   "metadata": {},
   "outputs": [],
   "source": []
  },
  {
   "cell_type": "code",
   "execution_count": null,
   "metadata": {},
   "outputs": [],
   "source": []
  },
  {
   "cell_type": "code",
   "execution_count": null,
   "metadata": {},
   "outputs": [],
   "source": []
  }
 ],
 "metadata": {
  "kernelspec": {
   "display_name": "Python 3",
   "language": "python",
   "name": "python3"
  },
  "language_info": {
   "codemirror_mode": {
    "name": "ipython",
    "version": 3
   },
   "file_extension": ".py",
   "mimetype": "text/x-python",
   "name": "python",
   "nbconvert_exporter": "python",
   "pygments_lexer": "ipython3",
   "version": "3.8.0"
  }
 },
 "nbformat": 4,
 "nbformat_minor": 2
}
